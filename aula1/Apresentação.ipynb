{
  "cells": [
    {
      "cell_type": "markdown",
      "metadata": {
        "id": "JLqDL-27cXA0"
      },
      "source": [
        "# Bases Computacionais: apresentação\n",
        "\n",
        "> Renato Naville Watanabe, Marcos Duarte  \n",
        "> [Laboratório de Biomecânica e Controle Motor](https://bmclab.pesquisa.ufabc.edu.br/pt/), UFABC"
      ]
    },
    {
      "cell_type": "markdown",
      "metadata": {
        "toc": true,
        "id": "TzvWArEscXA2"
      },
      "source": [
        "<h1>Contents<span class=\"tocSkip\"></span></h1>\n",
        "<div class=\"toc\"><ul class=\"toc-item\"><li><span><a href=\"#Motivação\" data-toc-modified-id=\"Motivação-1\"><span class=\"toc-item-num\">1&nbsp;&nbsp;</span>Motivação</a></span></li><li><span><a href=\"#A-computação-está-em-todos-os-lugares\" data-toc-modified-id=\"A-computação-está-em-todos-os-lugares-2\"><span class=\"toc-item-num\">2&nbsp;&nbsp;</span>A computação está em todos os lugares</a></span></li><li><span><a href=\"#Computação-científica:-uma-terceira-forma-de-ciência\" data-toc-modified-id=\"Computação-científica:-uma-terceira-forma-de-ciência-3\"><span class=\"toc-item-num\">3&nbsp;&nbsp;</span>Computação científica: uma terceira forma de ciência</a></span><ul class=\"toc-item\"><li><span><a href=\"#Exemplo:-processamento-de-dados\" data-toc-modified-id=\"Exemplo:-processamento-de-dados-3.1\"><span class=\"toc-item-num\">3.1&nbsp;&nbsp;</span>Exemplo: processamento de dados</a></span></li><li><span><a href=\"#Exemplo:-computação-visual\" data-toc-modified-id=\"Exemplo:-computação-visual-3.2\"><span class=\"toc-item-num\">3.2&nbsp;&nbsp;</span>Exemplo: computação visual</a></span></li><li><span><a href=\"#Exemplo:-análise-do-movimento-humano\" data-toc-modified-id=\"Exemplo:-análise-do-movimento-humano-3.3\"><span class=\"toc-item-num\">3.3&nbsp;&nbsp;</span>Exemplo: análise do movimento humano</a></span></li><li><span><a href=\"#Exemplo:-projetos-de-máquinas,-processos-e-produtos\" data-toc-modified-id=\"Exemplo:-projetos-de-máquinas,-processos-e-produtos-3.4\"><span class=\"toc-item-num\">3.4&nbsp;&nbsp;</span>Exemplo: projetos de máquinas, processos e produtos</a></span></li><li><span><a href=\"#Exemplo:-seqiuenciamento-de-DNA\" data-toc-modified-id=\"Exemplo:-seqiuenciamento-de-DNA-3.5\"><span class=\"toc-item-num\">3.5&nbsp;&nbsp;</span>Exemplo: seqiuenciamento de DNA</a></span></li><li><span><a href=\"#Exemplo:-mercado-financeiro\" data-toc-modified-id=\"Exemplo:-mercado-financeiro-3.6\"><span class=\"toc-item-num\">3.6&nbsp;&nbsp;</span>Exemplo: mercado financeiro</a></span></li><li><span><a href=\"#Exemplo:-simulação-computacional-em-neurociência\" data-toc-modified-id=\"Exemplo:-simulação-computacional-em-neurociência-3.7\"><span class=\"toc-item-num\">3.7&nbsp;&nbsp;</span>Exemplo: simulação computacional em neurociência</a></span></li><li><span><a href=\"#Exemplo:-jupyter,-um-ambiente-para-programação-letrada-com-qualquer-linguagem-de-programação\" data-toc-modified-id=\"Exemplo:-jupyter,-um-ambiente-para-programação-letrada-com-qualquer-linguagem-de-programação-3.8\"><span class=\"toc-item-num\">3.8&nbsp;&nbsp;</span>Exemplo: jupyter, um ambiente para programação letrada com qualquer linguagem de programação</a></span></li><li><span><a href=\"#Exemplo:-propagação-de-incerteza-de-uma-medida\" data-toc-modified-id=\"Exemplo:-propagação-de-incerteza-de-uma-medida-3.9\"><span class=\"toc-item-num\">3.9&nbsp;&nbsp;</span>Exemplo: propagação de incerteza de uma medida</a></span></li><li><span><a href=\"#Exemplo:-raspagem-de-dados-na-internet\" data-toc-modified-id=\"Exemplo:-raspagem-de-dados-na-internet-3.10\"><span class=\"toc-item-num\">3.10&nbsp;&nbsp;</span>Exemplo: raspagem de dados na internet</a></span></li></ul></li><li><span><a href=\"#Quem-paga-e-quem-realiza-atividade-de-ciência-e-tecnologia-no-mundo\" data-toc-modified-id=\"Quem-paga-e-quem-realiza-atividade-de-ciência-e-tecnologia-no-mundo-4\"><span class=\"toc-item-num\">4&nbsp;&nbsp;</span>Quem paga e quem realiza atividade de ciência e tecnologia no mundo</a></span></li><li><span><a href=\"#Objetivos\" data-toc-modified-id=\"Objetivos-5\"><span class=\"toc-item-num\">5&nbsp;&nbsp;</span>Objetivos</a></span></li><li><span><a href=\"#Programa-da-disciplina\" data-toc-modified-id=\"Programa-da-disciplina-6\"><span class=\"toc-item-num\">6&nbsp;&nbsp;</span>Programa da disciplina</a></span></li><li><span><a href=\"#O-computador\" data-toc-modified-id=\"O-computador-7\"><span class=\"toc-item-num\">7&nbsp;&nbsp;</span>O computador</a></span><ul class=\"toc-item\"><li><span><a href=\"#Turing\" data-toc-modified-id=\"Turing-7.1\"><span class=\"toc-item-num\">7.1&nbsp;&nbsp;</span>Turing</a></span></li><li><span><a href=\"#Estrutura-do-computador\" data-toc-modified-id=\"Estrutura-do-computador-7.2\"><span class=\"toc-item-num\">7.2&nbsp;&nbsp;</span>Estrutura do computador</a></span></li></ul></li><li><span><a href=\"#Avaliação\" data-toc-modified-id=\"Avaliação-8\"><span class=\"toc-item-num\">8&nbsp;&nbsp;</span>Avaliação</a></span><ul class=\"toc-item\"><li><span><a href=\"#Projeto-final\" data-toc-modified-id=\"Projeto-final-8.1\"><span class=\"toc-item-num\">8.1&nbsp;&nbsp;</span>Projeto final</a></span></li></ul></li><li><span><a href=\"#Monitoria-(plantões,-etc)\" data-toc-modified-id=\"Monitoria-(plantões,-etc)-9\"><span class=\"toc-item-num\">9&nbsp;&nbsp;</span>Monitoria (plantões, etc)</a></span></li><li><span><a href=\"#Conceitos\" data-toc-modified-id=\"Conceitos-10\"><span class=\"toc-item-num\">10&nbsp;&nbsp;</span>Conceitos</a></span><ul class=\"toc-item\"><li><span><a href=\"#Recuperação\" data-toc-modified-id=\"Recuperação-10.1\"><span class=\"toc-item-num\">10.1&nbsp;&nbsp;</span>Recuperação</a></span></li></ul></li><li><span><a href=\"#Github\" data-toc-modified-id=\"Github-11\"><span class=\"toc-item-num\">11&nbsp;&nbsp;</span>Github</a></span></li><li><span><a href=\"#Tarefa-1-(para-agora)\" data-toc-modified-id=\"Tarefa-1-(para-agora)-12\"><span class=\"toc-item-num\">12&nbsp;&nbsp;</span>Tarefa 1 (para agora)</a></span></li><li><span><a href=\"#Para-a-próxima-aula\" data-toc-modified-id=\"Para-a-próxima-aula-13\"><span class=\"toc-item-num\">13&nbsp;&nbsp;</span>Para a próxima aula</a></span></li><li><span><a href=\"#Referências\" data-toc-modified-id=\"Referências-14\"><span class=\"toc-item-num\">14&nbsp;&nbsp;</span>Referências</a></span></li></ul></div>"
      ]
    },
    {
      "cell_type": "markdown",
      "metadata": {
        "id": "Sn6MWB5HcXA3"
      },
      "source": [
        "## Motivação\n",
        "\n",
        "- Cada vez mais os **computadores** estão presentes nas diferentes áreas da **Ciência e Tecnologia**.\n",
        "\n",
        "\n",
        "\n",
        "- A palavra **Ciência** está relacionada com a compreensão do comportamento da natureza.\n",
        "- A **Tecnologia** está relacionada com encontrar soluções práticas para problemas:\n",
        "    + especialmente criar algo que vá de encontro às necessidades humanas.\n"
      ]
    },
    {
      "cell_type": "markdown",
      "metadata": {
        "id": "-F4kIzKvcXA4"
      },
      "source": [
        "- Ter um bom domínio sobre os computadores é uma competência importante para qualquer tipo de profissional.\n",
        "\n",
        "- Auxilia a resolver vários problemas durante a vida acadêmica e profissional."
      ]
    },
    {
      "cell_type": "markdown",
      "metadata": {
        "id": "7uzjMJ_zcXA5"
      },
      "source": [
        "## A computação está em todos os lugares\n",
        "\n",
        "- Cada vez mais, diversas áreas do conhecimento utilizam-se dos conceitos de Computação.\n",
        "\n",
        "- Atualmente é impensável fazer qualquer tipo de pesquisa científica sem o uso da Computação:\n",
        "    + Presença de instrumentos computadorizados coletando dados a todo instante e em todo lugar.\n",
        "    + Geração de dados científicos em volumes que não podem mais ser entendidos apenas com cálculos simples.\n",
        "    + Fenômenos Big Data e Internet das Coisas (IoT)."
      ]
    },
    {
      "cell_type": "markdown",
      "metadata": {
        "id": "ePpd9kUZcXA5"
      },
      "source": [
        "## Computação científica: uma terceira forma de ciência\n",
        "\n",
        "- Computação científica às vezes está relacionada à teoria e outras vezes ao trabalho experimental. Por isso, muitas vezes é vista como um novo terceiro ramo da ciência.\n",
        "\n",
        "<figure><center><img src=\"https://raw.githubusercontent.com/jrjohansson/scientific-python-lectures/master/images/theory-experiment-computation.png\" width=300 alt=\"theory-experiment-computation\"/></center></figure>\n",
        "\n",
        "Figura de [J.R. Johansson](https://nbviewer.jupyter.org/github/jrjohansson/scientific-python-lectures/blob/master/Lecture-0-Scientific-Computing-with-Python.ipynb)."
      ]
    },
    {
      "cell_type": "markdown",
      "metadata": {
        "id": "mgJCkLCIcXA6"
      },
      "source": [
        "### Exemplo: processamento de dados\n",
        "\n",
        "- Em um acelerador de partículas são produzidos em torno de 30 petabytes (=10$^6$ GB) por ano.\n",
        "\n",
        "Para compreender estes dados, são necessários recursos e conhecimentos computacionais.\n",
        "\n",
        "\n",
        "<table><tr>\n",
        "<td>    <img src=\"https://www.extremetech.com/wp-content/uploads/2019/01/CERN-LHC-e1547737523306-640x360.jpg\" width=\"300\" /></td>\n",
        "<td>    <img src=\"http://mediaarchive.cern.ch/MediaArchive/Photo/Public/2012/1207154/1207154_04/1207154_04-A5-at-72-dpi.jpg\" width=\"300\" /></td>\n",
        "</tr></table>\n"
      ]
    },
    {
      "cell_type": "markdown",
      "metadata": {
        "id": "W4L-8PoGcXA6"
      },
      "source": [
        "### Exemplo: computação visual\n",
        "\n",
        "- O objetivo deste projeto é Desenvolver robôs Humanóides sociáveis.\n",
        "\n",
        "Novos domínios de aplicação podem ser desenvolvidos  (doméstico, entretenimento, saúde, etc) com robôs fazendo parte atuante do dia-a-dia\n",
        "\n",
        "Projeto MIT:\n",
        "http://www.ai.mit.edu/projects/sociable/\n",
        "\n",
        "Hanson Robotics:\n",
        "http://www.hansonrobotics.com/\n",
        "\n",
        "\n",
        "<img src=\"http://www.ai.mit.edu/projects/sociable/images/KismetNBC.jpg\" width=\"300\" />"
      ]
    },
    {
      "cell_type": "markdown",
      "metadata": {
        "id": "fySA69OVcXA6"
      },
      "source": [
        "### Exemplo: análise do movimento humano\n",
        "\n",
        "- [Análise clínica da marcha](http://demotu.org/servicos/rba/)\n",
        "\n",
        "<img src=\"http://demotu.org/wp-content/uploads/2019/01/animation.gif\" width=\"300\" />\n"
      ]
    },
    {
      "cell_type": "markdown",
      "metadata": {
        "id": "C_NXj-mmcXA7"
      },
      "source": [
        "### Exemplo: projetos de máquinas, processos e produtos\n",
        "\n",
        "- Na indústria projetos de máquinas, processos e produtos são inicialmente desenvolvidos em ambientes controlados de simulação.\n",
        "\n",
        "<img src=\"https://i.ytimg.com/vi/a7LzGsemQ4E/maxresdefault.jpg\" width=\"300\" />\n"
      ]
    },
    {
      "cell_type": "markdown",
      "metadata": {
        "id": "uDXNYRACcXA7"
      },
      "source": [
        "### Exemplo: seqiuenciamento de DNA\n",
        "\n",
        "- Sequenciar o DNA consiste em determinar a ordem dos quatro blocos químicos - chamados \"bases\"  que compõem a molécula de DNA (“A”, “C”, “G”, “T”).\n",
        "Descobir causas de doenças, entender redes de regulação.\n",
        "\n",
        "<img src=\"https://www.genome.gov/sites/default/files/inline-images/dna_sequencing.jpg\" width=\"300\" />"
      ]
    },
    {
      "cell_type": "markdown",
      "metadata": {
        "id": "ykIt5htxcXA8"
      },
      "source": [
        "### Exemplo: mercado financeiro\n",
        "\n",
        "- Métodos computacionais são usados para fazer transações financeiras;\n",
        "\n",
        "- Dados de diversas fontes são usados para fazer análises de risco;\n",
        "\n",
        "- Inteligência computacional é usada para decidir quando comprar ou vender ações;\n",
        "\n",
        "- Cripto-Moedas.\n",
        "\n",
        "<table><tr>\n",
        "<td>    <img src=\"https://www.gtreview.com/wp-content/uploads/2014/11/Financial-diagrams-graphs-data-trading.jpg\" width=\"300\" /></td>\n",
        "<td>    <img src=\"https://www.coindesk.com/wp-content/uploads/2018/11/Bitcoins.jpg\" width=\"300\" /></td>\n",
        "</tr></table>"
      ]
    },
    {
      "cell_type": "markdown",
      "metadata": {
        "id": "XZJp00cncXA8"
      },
      "source": [
        "### Exemplo: simulação computacional em neurociência\n",
        "\n",
        "- Simulações computacionais de neurônios para estudar o controle do movimento.\n",
        "\n",
        "[ReMoto](http://remoto.leb.usp.br/remoto/index.html)\n"
      ]
    },
    {
      "cell_type": "markdown",
      "metadata": {
        "id": "WTWo4DX5cXA8"
      },
      "source": [
        "### Exemplo: jupyter, um ambiente para programação letrada com qualquer linguagem de programação\n",
        "\n",
        "- Em programação letrada, é possível combinar código fonte e documentação (legível por humanos e com rica formatação) e poder rodar o programa em um mesmo ambiente, parecendo um texto ilustrado, como esse aqui!\n",
        "\n",
        "   - [jupyter](https://jupyter.org/)  \n",
        "   - [Notes on Scientific Computing for Biomechanics and Motor Control](https://github.com/BMClab/BMC)  \n",
        "   - [A gallery of interesting IPython Notebooks](https://github.com/jupyter/jupyter/wiki)  "
      ]
    },
    {
      "cell_type": "markdown",
      "metadata": {
        "id": "rHJ5bw-9cXA9"
      },
      "source": [
        "### Exemplo: propagação de incerteza de uma medida\n",
        "\n",
        "- É comum estimarmos a incerteza (erro) de uma medição e é possível e a computação pode nos ajudar:\n",
        "\n",
        "[Propagation of uncertainty (error)](https://nbviewer.org/github/BMClab/BMC/blob/master/notebooks/PropagationUncertainty.ipynb)"
      ]
    },
    {
      "cell_type": "markdown",
      "metadata": {
        "id": "6cUrcUdtcXA9"
      },
      "source": [
        "### Exemplo: raspagem de dados na internet\n",
        "\n",
        "- [Um conjunto de dados público sobre treinamento de corrida de longa distância em 2019 e 2020](https://github.com/BMClab/covid19)"
      ]
    },
    {
      "cell_type": "markdown",
      "metadata": {
        "id": "4Vecie5DcXA9"
      },
      "source": [
        "## Quem paga e quem realiza atividade de ciência e tecnologia no mundo\n",
        "\n",
        "![pedpart](https://github.com/BMClab/BasesComputacionais/blob/master/aula1/imagens/pedpart.png?raw=1)\n",
        "[Fonte:relatório da ciência da Unesco](https://unesdoc.unesco.org/ark:/48223/pf0000235407_por)"
      ]
    },
    {
      "cell_type": "markdown",
      "metadata": {
        "id": "wM_qg97kcXA9"
      },
      "source": [
        "## Objetivos\n",
        "\n",
        "A disciplina *Bases Computacionais da Ciência* lança as bases para uma formação computacional.\n",
        "\n",
        "- Apresenta como a computação pode ser usada como apoio para o tratamento de conteudos presentes em todas as profissões:\n",
        "    + Funções, gráficos, estatística, programação\n",
        "    \n",
        "- Sugere formas de emprego da Computação para produção de conhecimento cientifíco e tecnológico."
      ]
    },
    {
      "cell_type": "markdown",
      "metadata": {
        "id": "l65PUssNcXA-"
      },
      "source": [
        "## Programa da disciplina\n",
        "\n",
        "- **Fundamentos de Computação**\n",
        "- **Representação e análise de dados**\n",
        "    + Representação gráfica de funções\n",
        "    + Noções de Estatística\n",
        "    + Correlação e regressão\n",
        "    + Bases de dados\n",
        "- **Algoritmos**\n",
        "    + Variáveis e estruturas sequenciais\n",
        "    + Estruturas condicionais\n",
        "    + Estrutura de repetição\n",
        "    + Funções\n",
        "- **Modelagem e simulação computacional**"
      ]
    },
    {
      "cell_type": "markdown",
      "metadata": {
        "id": "RUhfOgidcXA-"
      },
      "source": [
        "## O computador\n",
        "\n",
        "Um sistema de computação é **uma coleção de componentes** que realizam operações lógicas e aritméticas (transformação) **sobre um conjunto de dados** (entrada) e fornecem uma saída (os dados transformados).\n",
        "\n",
        "Um computador é uma máquina capaz de executar automaticamente alguma transformação no conjunto de dados de entrada\n",
        "\n"
      ]
    },
    {
      "cell_type": "markdown",
      "metadata": {
        "id": "oeZNQ4RlcXA-"
      },
      "source": [
        "Um **programa** é uma **sequência de ordens** (comandos, instruções) dadas a um computador que, a partir de **dados inseridos**, obtem um **resultado** que será disponibilizado por algum dispositivo de saída.\n",
        "\n",
        "![calc](https://github.com/BMClab/BasesComputacionais/blob/master/aula1/imagens/calc.png?raw=1)"
      ]
    },
    {
      "cell_type": "markdown",
      "metadata": {
        "id": "BZMc3pwzcXA-"
      },
      "source": [
        "### Turing\n",
        "\n",
        "- A idéia de um dispositivo de computação universal foi descrita, pela primeira vez, por Alan Turing, em 1937.\n",
        "\n",
        "- Turing propôs que toda a computação poderia ser realizada por um tipo especial de máquina, denominada Máquina de Turing\n",
        "<table><tr>\n",
        "<td>    <img src=\"https://github.com/BMClab/BasesComputacionais/blob/master/aula1/imagens/turing.jpg?raw=1\" width=\"200\" /></td>\n",
        "<td>    <img src=\"https://github.com/BMClab/BasesComputacionais/blob/master/aula1/imagens/turingMachine.png?raw=1\" width=\"500\" /></td>\n",
        "</tr></table>\n"
      ]
    },
    {
      "cell_type": "markdown",
      "metadata": {
        "id": "_aTGX2uUcXA-"
      },
      "source": [
        "### Estrutura do computador\n",
        "\n",
        "O que permitiu que o modelo de Turing de computador fosse construído foi o **modelo de von Neumann**.\n",
        "\n",
        "Consiste de uma unidade de processamento (**CPU**, na imagem UCP), uma unidade lógica e aritmética (ULA), uma memória (atualmente implementada com a **memória RAM**), elementos que possibilitem a entrada de dados (teclado, mouse, HD, etc) e elementos que permitam a saída de dados (monitor, impressora, HD, etc).\n",
        "\n",
        "\n",
        "\n",
        "![comp](https://github.com/BMClab/BasesComputacionais/blob/master/aula1/imagens/comp.png?raw=1)"
      ]
    },
    {
      "cell_type": "markdown",
      "metadata": {
        "id": "LRISH4k9cXA_"
      },
      "source": [
        "## Tarefa\n",
        "\n",
        "- Abrir uma conta no [Github](https://www.github.com).\n",
        "- Criar um repositório e colocar o professor como colaborador."
      ]
    },
    {
      "cell_type": "markdown",
      "metadata": {
        "id": "96f4cRkecXA_"
      },
      "source": [
        "## Para a próxima aula\n",
        "\n",
        " - Ler as seções 1.1, 1.2 e 1.3 do livro [Marietto, MGB et al.; **Bases computacionais da Ciência** (2013)](http://prograd.ufabc.edu.br/images/pdf/bases_computacionais_livro.pdf)."
      ]
    },
    {
      "cell_type": "markdown",
      "metadata": {
        "id": "ttORUql1cXA_"
      },
      "source": [
        "## Referências\n",
        "\n",
        "- Chalco, JM, *Slides de Bases Computacionais da Ciência*, (2014)\n",
        "- Leite, S, *Slides de Bases Computacionais da Ciência*, (2018)\n",
        "- [Marietto, MGB et al.; **Bases computacionais da Ciência** (2013)](http://prograd.ufabc.edu.br/images/pdf/bases_computacionais_livro.pdf)."
      ]
    }
  ],
  "metadata": {
    "kernelspec": {
      "display_name": "Python 3 (ipykernel)",
      "language": "python",
      "name": "python3"
    },
    "language_info": {
      "codemirror_mode": {
        "name": "ipython",
        "version": 3
      },
      "file_extension": ".py",
      "mimetype": "text/x-python",
      "name": "python",
      "nbconvert_exporter": "python",
      "pygments_lexer": "ipython3",
      "version": "3.11.3"
    },
    "latex_envs": {
      "LaTeX_envs_menu_present": true,
      "autoclose": false,
      "autocomplete": true,
      "bibliofile": "biblio.bib",
      "cite_by": "apalike",
      "current_citInitial": 1,
      "eqLabelWithNumbers": true,
      "eqNumInitial": 1,
      "hotkeys": {
        "equation": "Ctrl-E",
        "itemize": "Ctrl-I"
      },
      "labels_anchors": false,
      "latex_user_defs": false,
      "report_style_numbering": false,
      "user_envs_cfg": false
    },
    "livereveal": {
      "autolaunch": true
    },
    "nbTranslate": {
      "displayLangs": [
        "*"
      ],
      "hotkey": "alt-t",
      "langInMainMenu": true,
      "sourceLang": "en",
      "targetLang": "pt",
      "useGoogleTranslate": true
    },
    "toc": {
      "base_numbering": 1,
      "nav_menu": {},
      "number_sections": true,
      "sideBar": true,
      "skip_h1_title": true,
      "title_cell": "Contents",
      "title_sidebar": "Contents",
      "toc_cell": true,
      "toc_position": {},
      "toc_section_display": true,
      "toc_window_display": false
    },
    "varInspector": {
      "cols": {
        "lenName": 16,
        "lenType": 16,
        "lenVar": 40
      },
      "kernels_config": {
        "python": {
          "delete_cmd_postfix": "",
          "delete_cmd_prefix": "del ",
          "library": "var_list.py",
          "varRefreshCmd": "print(var_dic_list())"
        },
        "r": {
          "delete_cmd_postfix": ") ",
          "delete_cmd_prefix": "rm(",
          "library": "var_list.r",
          "varRefreshCmd": "cat(var_dic_list()) "
        }
      },
      "types_to_exclude": [
        "module",
        "function",
        "builtin_function_or_method",
        "instance",
        "_Feature"
      ],
      "window_display": false
    },
    "colab": {
      "provenance": []
    }
  },
  "nbformat": 4,
  "nbformat_minor": 0
}